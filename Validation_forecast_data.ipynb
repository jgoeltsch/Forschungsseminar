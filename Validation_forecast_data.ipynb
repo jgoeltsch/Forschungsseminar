{
 "cells": [
  {
   "cell_type": "markdown",
   "id": "ab7ca9f9",
   "metadata": {},
   "source": [
    "**Imports**"
   ]
  },
  {
   "cell_type": "code",
   "execution_count": null,
   "id": "f02fc162",
   "metadata": {},
   "outputs": [],
   "source": [
    "# Imports und Funktions-Imports\n",
    "# Standard- und externe Bibliotheken\n",
    "import cvxpy as cp\n",
    "import pandas as pd\n",
    "import matplotlib.pyplot as plt\n",
    "\n",
    "# Eigene Funktions-Module für Daten, Berechnung und Steuerung\n",
    "from functions.retro_data.weather_data import get_weather\n",
    "from functions.retro_data.spotprice_data import get_spotprice\n",
    "from functions.retro_data.consumption_data import get_demand\n",
    "\n",
    "from functions.forecast.spotprice_forecast_data import get_spotprice_forecast\n",
    "from functions.forecast.weather_forecast_data import get_weather_forecast\n",
    "from functions.forecast.weather_real_data import get_weather_real\n",
    "from functions.forecast.consumption_forecast_data import get_demand_forecast\n",
    "\n",
    "from functions.calculations.calculations import calculate_energy\n",
    "from functions.calculations.kpis_valid import calculate_kpis_valid\n",
    "from functions.deciding_functions.optimized import optimize_energy_flow\n",
    "from functions.deciding_functions.reinforcementlearning.reinforcementlearning_train import reinforcement_learning_train\n",
    "from functions.deciding_functions.reinforcementlearning.reinforcementlearning_test import reinforcement_learning_test\n",
    "from functions.deciding_functions.rulebased import rule_based_energy_flow\n",
    "from functions.results.results import get_results"
   ]
  },
  {
   "cell_type": "markdown",
   "id": "c940c1e8",
   "metadata": {},
   "source": [
    "**Definition des Green Energy Ecosystems**"
   ]
  },
  {
   "cell_type": "code",
   "execution_count": null,
   "id": "21fe3704",
   "metadata": {},
   "outputs": [],
   "source": [
    "# Systemparameter und Annahmen\n",
    "# Hier werden alle relevanten Systemparameter für PV, Wind, Batterie, Verbraucher etc. gesetzt.\n",
    "# Werte können für Szenarien einfach angepasst werden.\n",
    "\n",
    "# Photovoltaik\n",
    "solar_peak_power = 38  # Spitzenleistung Gesamtsystem PV [MW]\n",
    "num_modules = 114980 #Anzahl Solarmodule\n",
    "area_per_module = 1.57458  # Fläche pro Modul [m²] (Annahme Heckert Solar NeMo® 2.0 330 Wp)\n",
    "module_efficiency = 0.196  # Wirkungsgrad der Solarmodule (Annahme Heckert Solar NeMo® 2.0 330 Wp)\n",
    "tilt_angle = 45  # Neigungswinkel der Solarpanels [°] (Annahme)\n",
    "latitude=51.751111 # Breitengrad\n",
    "longitude=4.208611 # Längengrad\n",
    "azimuth=180 # Azimut [°]\n",
    "albedo=0.2 # Albedo\n",
    "\n",
    "# Windkraft \n",
    "wind_peak_power = 22   # Spitzenleistung Gesamtsystem Windkraft [MW]\n",
    "r = 60 # Rotor Radius [m]\n",
    "h = 90 # Höhe Windrad [m]\n",
    "turbine_efficiency = 0.5  # Wirkungsgrad der Windkraftanlagen (Annahme)\n",
    "cut_in = 2.5  # Einschaltgeschwindigkeit [m/s]\n",
    "cut_out = 28  # Abschaltgeschwindigkeit [m/s]\n",
    "num_turbines = 6 # Anzahl Windkraftanlagen\n",
    "\n",
    "# Batteriespeicher\n",
    "battery_capacity = 12  # [MWh]\n",
    "soc = 0.5  # State of Charge (SOC) initial [0-1]\n",
    "initial_battery = soc * battery_capacity  # [MWh]\n",
    "charging_rate = 10  # Lade-/Entladerate [MW]\n",
    "discharging_rate = 10\n",
    "\n",
    "# Verbraucher\n",
    "yearly_demand = 2.7  #  Verbrauch eines Haushalts/Jahr [MWh] (Annahme)\n",
    "num_houses = 39000  # Anzahl Haushalte\n",
    "\n",
    "# Strompreis\n",
    "export_factor = 0.25   # Anteil vom Spotpreis für Einspeisung\n",
    "price_low_quant  = 0.30   # Regelbasiert: Niedrigpreis-Schwelle\n",
    "\n",
    "# Parameter für Sliding Window\n",
    "test_month = 5  # Startmonat für das Sliding Window (1 bis 5) (5)\n",
    "test_timeframe = 3  # Datensatz kürzen [Tage] (7)\n",
    "forecast_horizon = 1    # Länge des Fensters [Tage] (2)\n",
    "stepsize = 1    # Schrittweite [Stunden] (1)\n",
    "\n",
    "# RL Parameter\n",
    "split = 80/20 # Train/Test Split\n",
    "total_timesteps = 500  # Anzahl der Schritte für das Training des RL-Agenten"
   ]
  },
  {
   "cell_type": "markdown",
   "id": "47740d3d",
   "metadata": {},
   "source": [
    "**Vorbereiten der Datensätze**"
   ]
  },
  {
   "cell_type": "code",
   "execution_count": null,
   "id": "3556bc7d",
   "metadata": {},
   "outputs": [],
   "source": [
    "df_weather_forecast = get_weather_forecast()\n",
    "df_weather_real = get_weather_real()\n",
    "df_spot_forecast, df_spot_real = get_spotprice_forecast()\n",
    "df_demand_real = get_demand_forecast(num_houses, yearly_demand)"
   ]
  },
  {
   "cell_type": "markdown",
   "id": "fb8c9765",
   "metadata": {},
   "source": [
    "**Ausführen der Berechnungsfunktion**"
   ]
  },
  {
   "cell_type": "code",
   "execution_count": null,
   "id": "cf8c542a",
   "metadata": {},
   "outputs": [],
   "source": [
    "# Energie- und Bedarfsberechnung für Trainings- und Testdaten\n",
    "# Berechnet PV-/Wind-Ertrag und merged alle relevanten Spalten.\n",
    "\n",
    "df_energy_forecast = calculate_energy(\n",
    "    df_weather_forecast, \n",
    "    solar_peak_power, num_modules, area_per_module, module_efficiency, tilt_angle, latitude, longitude, azimuth, albedo, \n",
    "    wind_peak_power, r, h, turbine_efficiency, cut_in, cut_out, num_turbines\n",
    ")\n",
    "\n",
    "df_forecast = df_energy_forecast.merge(\n",
    "    df_spot_forecast[['datetime', 'spotprice']],\n",
    "    on='datetime', how='left'\n",
    " ).merge(\n",
    "    df_demand_real[['datetime', 'energy_demand']],\n",
    "    on='datetime', how='left'\n",
    " ).reset_index(drop=True)\n",
    "\n",
    "df_energy_real = calculate_energy(\n",
    "    df_weather_real, \n",
    "    solar_peak_power, num_modules, area_per_module, module_efficiency, tilt_angle, latitude, longitude, azimuth, albedo, \n",
    "    wind_peak_power, r, h, turbine_efficiency, cut_in, cut_out, num_turbines\n",
    ")\n",
    "\n",
    "df_real = df_energy_real.merge(\n",
    "    df_spot_real[['datetime', 'spotprice']],\n",
    "    on='datetime', how='left'\n",
    " ).merge(\n",
    "    df_demand_real[['datetime', 'energy_demand']],\n",
    "    on='datetime', how='left'\n",
    " ).reset_index(drop=True)\n",
    "\n",
    "# Optional: Daten anzeigen\n",
    "# display(df_train.head()), display(df_test.head())"
   ]
  },
  {
   "cell_type": "markdown",
   "id": "0c8f932d",
   "metadata": {},
   "source": [
    "**Ausführen der Entscheidungs-Funktionen**"
   ]
  },
  {
   "cell_type": "code",
   "execution_count": null,
   "id": "fb3e7ef6",
   "metadata": {},
   "outputs": [],
   "source": [
    "# Regelbasierte Steuerung (Testdaten)\n",
    "# Einfache Heuristik für Batterie- und Netzmanagement.\n",
    "\n",
    "result_df_rule_forecast = rule_based_energy_flow(\n",
    "    df_forecast, \n",
    "    battery_capacity, initial_battery, charging_rate, discharging_rate,\n",
    "    export_factor, price_low_quant\n",
    "    )\n",
    "\n",
    "result_df_rule_real = rule_based_energy_flow(\n",
    "    df_real, \n",
    "    battery_capacity, initial_battery, charging_rate, discharging_rate,\n",
    "    export_factor, price_low_quant\n",
    "    )\n",
    "\n",
    "result_kpis_rule_forecast = calculate_kpis_valid(result_df_rule_forecast, df_spot_real, export_factor)\n",
    "result_kpis_rule_real = calculate_kpis_valid(result_df_rule_real, df_spot_real, export_factor)"
   ]
  },
  {
   "cell_type": "code",
   "execution_count": null,
   "id": "0ebd5723",
   "metadata": {},
   "outputs": [],
   "source": [
    "# Mathematische Optimierung (Testdaten)\n",
    "# Optimiert die Energieflüsse für das Testfenster mit Extremwertproblem.\n",
    "\n",
    "result_df_opt_forecast = optimize_energy_flow(\n",
    "    df_forecast, \n",
    "    battery_capacity, initial_battery, charging_rate, discharging_rate,\n",
    "    export_factor, \n",
    "    forecast_horizon, stepsize\n",
    "    )\n",
    "\n",
    "result_df_opt_real = optimize_energy_flow(\n",
    "    df_real, \n",
    "    battery_capacity, initial_battery, charging_rate, discharging_rate,\n",
    "    export_factor, \n",
    "    forecast_horizon, stepsize\n",
    "    )\n",
    "\n",
    "result_kpis_opt_forecast = calculate_kpis_valid(result_df_opt_forecast, df_spot_real, export_factor)\n",
    "result_kpis_opt_real = calculate_kpis_valid(result_df_opt_real, df_spot_real, export_factor)"
   ]
  },
  {
   "cell_type": "code",
   "execution_count": null,
   "id": "a60fa8dd",
   "metadata": {},
   "outputs": [],
   "source": [
    "# Reinforcement Learning: Test mit gespeichertem Modell\n",
    "# Lädt das trainierte Modell und testet es auf den Testdaten (Sliding Window, SOC-Übergabe).\n",
    "\n",
    "from stable_baselines3 import DQN\n",
    "from functions.deciding_functions.reinforcementlearning.reinforcementlearning_train import EMSenv\n",
    "\n",
    "# Modell laden\n",
    "model = DQN.load(\"model/rl_model_trained.zip\")\n",
    "\n",
    "# Testfunktion ausführen (Parameter wie beim Training)\n",
    "env_kwargs = {\n",
    "    'battery_capacity': battery_capacity,\n",
    "    'charging_rate': charging_rate,\n",
    "    'discharge_rate': discharging_rate,\n",
    "    'export_price_factor': export_factor,\n",
    "}\n",
    "\n",
    "result_df_rl_forecast = reinforcement_learning_test(\n",
    "    model,\n",
    "    df_forecast,\n",
    "    EMSenv,\n",
    "    env_kwargs,\n",
    "    forecast_horizon,\n",
    "    stepsize,\n",
    "    initial_battery\n",
    ")\n",
    "\n",
    "result_df_rl_real = reinforcement_learning_test(\n",
    "    model,\n",
    "    df_real,\n",
    "    EMSenv,\n",
    "    env_kwargs,\n",
    "    forecast_horizon,\n",
    "    stepsize,\n",
    "    initial_battery\n",
    ")\n",
    "\n",
    "result_kpis_rl_forecast = calculate_kpis_valid(result_df_rl_forecast, df_spot_real, export_factor)\n",
    "result_kpis_rl_real = calculate_kpis_valid(result_df_rl_real, df_spot_real, export_factor)"
   ]
  },
  {
   "cell_type": "code",
   "execution_count": null,
   "id": "bf5406c8",
   "metadata": {},
   "outputs": [],
   "source": [
    "get_results(result_df_rule_forecast, result_df_opt_forecast, result_df_rl_forecast, result_kpis_rule_forecast, result_kpis_opt_forecast, result_kpis_rl_forecast, export_factor)"
   ]
  },
  {
   "cell_type": "code",
   "execution_count": null,
   "id": "2c026c45",
   "metadata": {},
   "outputs": [],
   "source": [
    "get_results(result_df_rule_real, result_df_opt_real, result_df_rl_real, result_kpis_rule_real, result_kpis_opt_real, result_kpis_rl_real, export_factor)"
   ]
  }
 ],
 "metadata": {
  "kernelspec": {
   "display_name": "Python 3",
   "language": "python",
   "name": "python3"
  },
  "language_info": {
   "codemirror_mode": {
    "name": "ipython",
    "version": 3
   },
   "file_extension": ".py",
   "mimetype": "text/x-python",
   "name": "python",
   "nbconvert_exporter": "python",
   "pygments_lexer": "ipython3",
   "version": "3.11.9"
  }
 },
 "nbformat": 4,
 "nbformat_minor": 5
}
