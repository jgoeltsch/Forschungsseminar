{
 "cells": [
  {
   "cell_type": "code",
   "execution_count": 1,
   "id": "f02fc162",
   "metadata": {},
   "outputs": [],
   "source": [
    "import cvxpy as cp\n",
    "import pandas as pd\n",
    "import matplotlib.pyplot as plt\n",
    "\n",
    "from functions.retro_data.weather_data import get_weather\n",
    "from functions.calculations.calculations import calculate_energy\n",
    "from functions.deciding_functions.optimized import optimize_energy_flow\n",
    "from functions.deciding_functions.rulebased import rule_based_energy_flow"
   ]
  },
  {
   "cell_type": "code",
   "execution_count": 2,
   "id": "21fe3704",
   "metadata": {},
   "outputs": [],
   "source": [
    "# Parameter\n",
    "solar_peak_power = 38  # MWp\n",
    "wind_peak_power = 22   # MWp\n",
    "hourly_demand = 1.6 * 39000 / (365 * 24)  # MWh\n",
    "battery_capacity = 12  # MWh\n",
    "initial_battery = 6.0  # MWh"
   ]
  },
  {
   "cell_type": "code",
   "execution_count": 3,
   "id": "cf8c542a",
   "metadata": {},
   "outputs": [
    {
     "ename": "RuntimeError",
     "evalue": "Solver für MIP nicht installiert.",
     "output_type": "error",
     "traceback": [
      "\u001b[31m---------------------------------------------------------------------------\u001b[39m",
      "\u001b[31mRuntimeError\u001b[39m                              Traceback (most recent call last)",
      "\u001b[36mCell\u001b[39m\u001b[36m \u001b[39m\u001b[32mIn[3]\u001b[39m\u001b[32m, line 13\u001b[39m\n\u001b[32m     11\u001b[39m \u001b[38;5;66;03m# Optimierungsfunktionen\u001b[39;00m\n\u001b[32m     12\u001b[39m result_df_rule = rule_based_energy_flow(df_energy, battery_capacity, initial_battery)\n\u001b[32m---> \u001b[39m\u001b[32m13\u001b[39m result_df_opt, total_cost = \u001b[43moptimize_energy_flow\u001b[49m\u001b[43m(\u001b[49m\u001b[43mdf_energy\u001b[49m\u001b[43m,\u001b[49m\u001b[43m \u001b[49m\u001b[43mbattery_capacity\u001b[49m\u001b[43m,\u001b[49m\u001b[43m \u001b[49m\u001b[43minitial_battery\u001b[49m\u001b[43m)\u001b[49m\n",
      "\u001b[36mFile \u001b[39m\u001b[32mc:\\Users\\Julian\\Documents\\01_Hochschule\\Master\\02_Semester\\Forschungsseminar\\Code\\functions\\deciding_functions\\optimized.py:58\u001b[39m, in \u001b[36moptimize_energy_flow\u001b[39m\u001b[34m(df, battery_capacity, initial_battery, price_buy)\u001b[39m\n\u001b[32m     56\u001b[39m     problem.solve(solver=cp.GLPK_MI)\n\u001b[32m     57\u001b[39m \u001b[38;5;28;01melse\u001b[39;00m:\n\u001b[32m---> \u001b[39m\u001b[32m58\u001b[39m     \u001b[38;5;28;01mraise\u001b[39;00m \u001b[38;5;167;01mRuntimeError\u001b[39;00m(\u001b[33m\"\u001b[39m\u001b[33mSolver für MIP nicht installiert.\u001b[39m\u001b[33m\"\u001b[39m)\n\u001b[32m     61\u001b[39m \u001b[38;5;66;03m# Statusprüfung ergänzen\u001b[39;00m\n\u001b[32m     62\u001b[39m \u001b[38;5;28;01mif\u001b[39;00m problem.status \u001b[38;5;129;01mnot\u001b[39;00m \u001b[38;5;129;01min\u001b[39;00m [\u001b[33m\"\u001b[39m\u001b[33moptimal\u001b[39m\u001b[33m\"\u001b[39m, \u001b[33m\"\u001b[39m\u001b[33moptimal_inaccurate\u001b[39m\u001b[33m\"\u001b[39m]:\n",
      "\u001b[31mRuntimeError\u001b[39m: Solver für MIP nicht installiert."
     ]
    }
   ],
   "source": [
    "#Funktionsaufrufe\n",
    "\n",
    "# Wetterdaten abrufen\n",
    "df_weather = get_weather()\n",
    "if df_weather is None:\n",
    "    print(\"Abbruch wegen Fehler bei der API.\")\n",
    "\n",
    "# Bedarf und Ertrag berechnen\n",
    "df_energy = calculate_energy(df_weather, solar_peak_power, wind_peak_power, hourly_demand)\n",
    "\n",
    "# Optimierungsfunktionen\n",
    "result_df_rule = rule_based_energy_flow(df_energy, battery_capacity, initial_battery)\n",
    "result_df_opt, total_cost = optimize_energy_flow(df_energy, battery_capacity, initial_battery)"
   ]
  },
  {
   "cell_type": "code",
   "execution_count": null,
   "id": "baa6407e",
   "metadata": {},
   "outputs": [],
   "source": [
    "# Kostenberechnung\n",
    "result_df_rule[\"costs\"] = result_df_rule[\"grid_buy\"] * 100\n",
    "total_cost_rule = result_df_rule[\"costs\"].sum()"
   ]
  },
  {
   "cell_type": "code",
   "execution_count": null,
   "id": "b0b2619a",
   "metadata": {},
   "outputs": [],
   "source": [
    "#Ausgaben \n",
    "print(f\"Regelbasiert:\")\n",
    "print(f\"Stromkosten: {total_cost_rule:.2f} €\")\n",
    "print(\"Netzbezug:\", result_df_rule[\"grid_buy\"].sum())\n",
    "print(\"Gesamtladung Batterie:\", result_df_rule[\"battery_charge\"].sum())\n",
    "print(\"Gesamtentladung Batterie:\", result_df_rule[\"battery_discharge\"].sum())\n",
    "\n",
    "print(f\"Optimiert:\")\n",
    "print(f\"Stromkosten: {total_cost:.2f} €\")\n",
    "print(\"Netzbezug:\", result_df_opt[\"grid_buy\"].sum())\n",
    "print(\"Gesamtladung Batterie:\", result_df_opt[\"battery_charge\"].sum())\n",
    "print(\"Gesamtentladung Batterie:\", result_df_opt[\"battery_discharge\"].sum())"
   ]
  },
  {
   "cell_type": "code",
   "execution_count": null,
   "id": "3bac4e43",
   "metadata": {},
   "outputs": [],
   "source": [
    "#Als .csv speichern\n",
    "result_df_rule.to_csv(\"data\\regelbasierter_energiefluss.csv\", index=False)\n",
    "result_df_opt.to_csv(\"data\\optimierter_energiefluss.csv\", index=False)"
   ]
  },
  {
   "cell_type": "code",
   "execution_count": null,
   "id": "d56b1fbc",
   "metadata": {},
   "outputs": [
    {
     "ename": "RuntimeError",
     "evalue": "Solver für MIP nicht installiert.",
     "output_type": "error",
     "traceback": [
      "\u001b[31m---------------------------------------------------------------------------\u001b[39m",
      "\u001b[31mRuntimeError\u001b[39m                              Traceback (most recent call last)",
      "\u001b[36mCell\u001b[39m\u001b[36m \u001b[39m\u001b[32mIn[13]\u001b[39m\u001b[32m, line 18\u001b[39m\n\u001b[32m     16\u001b[39m \u001b[38;5;66;03m# Optimierungsfunktionen\u001b[39;00m\n\u001b[32m     17\u001b[39m result_df_rule = rule_based_energy_flow(df_energy, battery_capacity, initial_battery)\n\u001b[32m---> \u001b[39m\u001b[32m18\u001b[39m result_df_opt, total_cost = \u001b[43moptimize_energy_flow\u001b[49m\u001b[43m(\u001b[49m\u001b[43mdf_energy\u001b[49m\u001b[43m,\u001b[49m\u001b[43m \u001b[49m\u001b[43mbattery_capacity\u001b[49m\u001b[43m,\u001b[49m\u001b[43m \u001b[49m\u001b[43minitial_battery\u001b[49m\u001b[43m)\u001b[49m\n\u001b[32m     20\u001b[39m \u001b[38;5;66;03m# Kostenberechnung\u001b[39;00m\n\u001b[32m     21\u001b[39m result_df_rule[\u001b[33m\"\u001b[39m\u001b[33mcosts\u001b[39m\u001b[33m\"\u001b[39m] = result_df_rule[\u001b[33m\"\u001b[39m\u001b[33mgrid_buy\u001b[39m\u001b[33m\"\u001b[39m] * \u001b[32m100\u001b[39m\n",
      "\u001b[36mFile \u001b[39m\u001b[32mc:\\Users\\Julian\\Documents\\01_Hochschule\\Master\\02_Semester\\Forschungsseminar\\Code\\optimizer.py:58\u001b[39m, in \u001b[36moptimize_energy_flow\u001b[39m\u001b[34m(df, battery_capacity, initial_battery, price_buy)\u001b[39m\n\u001b[32m     56\u001b[39m     problem.solve(solver=cp.GLPK_MI)\n\u001b[32m     57\u001b[39m \u001b[38;5;28;01melse\u001b[39;00m:\n\u001b[32m---> \u001b[39m\u001b[32m58\u001b[39m     \u001b[38;5;28;01mraise\u001b[39;00m \u001b[38;5;167;01mRuntimeError\u001b[39;00m(\u001b[33m\"\u001b[39m\u001b[33mSolver für MIP nicht installiert.\u001b[39m\u001b[33m\"\u001b[39m)\n\u001b[32m     61\u001b[39m \u001b[38;5;66;03m# Statusprüfung ergänzen\u001b[39;00m\n\u001b[32m     62\u001b[39m \u001b[38;5;28;01mif\u001b[39;00m problem.status \u001b[38;5;129;01mnot\u001b[39;00m \u001b[38;5;129;01min\u001b[39;00m [\u001b[33m\"\u001b[39m\u001b[33moptimal\u001b[39m\u001b[33m\"\u001b[39m, \u001b[33m\"\u001b[39m\u001b[33moptimal_inaccurate\u001b[39m\u001b[33m\"\u001b[39m]:\n",
      "\u001b[31mRuntimeError\u001b[39m: Solver für MIP nicht installiert."
     ]
    }
   ],
   "source": [
    "#Plots erstellen\n",
    "\n",
    "# CSV-Dateien laden\n",
    "df_opt = pd.read_csv(\"data\\optimierter_energiefluss.csv\")\n",
    "df_regel = pd.read_csv(\"data\\regelbasierter_energiefluss.csv\")\n",
    "\n",
    "# Zeitspalte parsen\n",
    "df_opt[\"datetime\"] = pd.to_datetime(df_opt[\"datetime\"])\n",
    "df_regel[\"datetime\"] = pd.to_datetime(df_regel[\"datetime\"])\n",
    "\n",
    "# Filter: nur die ersten beiden Tage\n",
    "start_time = df_opt[\"datetime\"].min()\n",
    "start_time = start_time + pd.Timedelta(days=1)\n",
    "end_time = start_time + pd.Timedelta(days=3)\n",
    "\n",
    "df_opt = df_opt[(df_opt[\"datetime\"] >= start_time) & (df_opt[\"datetime\"] < end_time)]\n",
    "df_regel = df_regel[(df_regel[\"datetime\"] >= start_time) & (df_regel[\"datetime\"] < end_time)]\n",
    "\n",
    "# Schriftgrößen definieren\n",
    "label_fontsize = 20\n",
    "tick_fontsize = 20\n",
    "legend_fontsize = 20\n",
    "\n",
    "# Plot erstellen\n",
    "fig, axs = plt.subplots(4, 1, figsize=(14, 12), sharex=True)\n",
    "\n",
    "# Netzbezug\n",
    "axs[0].plot(df_opt[\"datetime\"], df_opt[\"grid_buy\"], label=\"optimized\", linewidth=2.5)\n",
    "axs[0].plot(df_regel[\"datetime\"], df_regel[\"grid_buy\"], label=\"rulebased\", color=\"black\", linestyle=\"--\", linewidth=2)\n",
    "axs[0].set_ylabel(\"Grid electricity [MWh]\", fontsize=label_fontsize)\n",
    "axs[0].legend(fontsize=legend_fontsize)\n",
    "axs[0].tick_params(axis='both', labelsize=tick_fontsize)\n",
    "\n",
    "# Curtailment vs. Feed-in\n",
    "axs[1].plot(df_opt[\"datetime\"], df_opt[\"curtailment\"], label=\"optimized\", color=\"orange\", linewidth=2.5)\n",
    "axs[1].plot(df_regel[\"datetime\"], df_regel[\"grid_feed_in\"], label=\"rulebased\", color=\"black\", linestyle=\"--\", linewidth=2)\n",
    "axs[1].set_ylabel(\"Feed-in [MWh]\", fontsize=label_fontsize)\n",
    "axs[1].legend(fontsize=legend_fontsize)\n",
    "axs[1].tick_params(axis='both', labelsize=tick_fontsize)\n",
    "\n",
    "# Batteriezustand\n",
    "axs[2].plot(df_opt[\"datetime\"], df_opt[\"battery_state\"], label=\"optimized\", color=\"green\", linewidth=2.5)\n",
    "axs[2].plot(df_regel[\"datetime\"], df_regel[\"battery_state\"], label=\"rulebased\", color=\"black\", linestyle=\"--\", linewidth=2)\n",
    "axs[2].set_ylabel(\"SOC [MWh]\", fontsize=label_fontsize)\n",
    "axs[2].legend(fontsize=legend_fontsize)\n",
    "axs[2].tick_params(axis='both', labelsize=tick_fontsize)\n",
    "\n",
    "# Erzeugung und Verbrauch\n",
    "axs[3].plot(df_opt[\"datetime\"], df_opt[\"total_energy_production\"], label=\"Energy generation\", color=\"purple\", linewidth=2.5)\n",
    "axs[3].plot(df_opt[\"datetime\"], df_opt[\"energy_demand\"], label=\"Energy demand\", linestyle=\"--\", color=\"black\", linewidth=2)\n",
    "axs[3].set_ylabel(\"Energy quantity [MWh]\", fontsize=label_fontsize)\n",
    "axs[3].legend(fontsize=legend_fontsize)\n",
    "axs[3].tick_params(axis='both', labelsize=tick_fontsize)\n",
    "\n",
    "# Gemeinsame X-Achse\n",
    "plt.xlabel(\"Date/time\", fontsize=label_fontsize)\n",
    "plt.tight_layout()\n",
    "plt.show()"
   ]
  }
 ],
 "metadata": {
  "kernelspec": {
   "display_name": "Python 3",
   "language": "python",
   "name": "python3"
  },
  "language_info": {
   "codemirror_mode": {
    "name": "ipython",
    "version": 3
   },
   "file_extension": ".py",
   "mimetype": "text/x-python",
   "name": "python",
   "nbconvert_exporter": "python",
   "pygments_lexer": "ipython3",
   "version": "3.11.9"
  }
 },
 "nbformat": 4,
 "nbformat_minor": 5
}
